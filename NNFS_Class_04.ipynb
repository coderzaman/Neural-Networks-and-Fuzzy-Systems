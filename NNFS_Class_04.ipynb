{
  "nbformat": 4,
  "nbformat_minor": 0,
  "metadata": {
    "colab": {
      "provenance": [],
      "authorship_tag": "ABX9TyOMR4S+1NrOD8tTX+BgTZzr",
      "include_colab_link": true
    },
    "kernelspec": {
      "name": "python3",
      "display_name": "Python 3"
    },
    "language_info": {
      "name": "python"
    }
  },
  "cells": [
    {
      "cell_type": "markdown",
      "metadata": {
        "id": "view-in-github",
        "colab_type": "text"
      },
      "source": [
        "<a href=\"https://colab.research.google.com/github/coderzaman/Neural-Networks-and-Fuzzy-Systems/blob/main/NNFS_Class_04.ipynb\" target=\"_parent\"><img src=\"https://colab.research.google.com/assets/colab-badge.svg\" alt=\"Open In Colab\"/></a>"
      ]
    },
    {
      "cell_type": "code",
      "execution_count": 1,
      "metadata": {
        "colab": {
          "base_uri": "https://localhost:8080/"
        },
        "id": "XNOBzvvQWRvr",
        "outputId": "442280d1-e6ff-4463-c0ea-55c12a611439"
      },
      "outputs": [
        {
          "output_type": "stream",
          "name": "stdout",
          "text": [
            "Mounted at /content/drive\n"
          ]
        }
      ],
      "source": [
        "import tensorflow as tf\n",
        "import pandas as pd\n",
        "from sklearn.model_selection import train_test_split\n",
        "from sklearn.preprocessing import LabelEncoder, StandardScaler\n",
        "from google.colab import drive\n",
        "\n",
        "# Mount Google Drive\n",
        "drive.mount('/content/drive')"
      ]
    },
    {
      "cell_type": "code",
      "source": [
        "# Load the dataset from your Google Drive\n",
        "file_path = '/content/drive/MyDrive/Dataset/HepatitisCdata.csv'\n",
        "df = pd.read_csv(file_path)\n",
        "\n",
        "# Remove the unnamed ID column as requested\n",
        "if 'Unnamed: 0' in df.columns:\n",
        "    df = df.drop('Unnamed: 0', axis=1)\n",
        "\n",
        "# Handle missing values by filling with the mean of each column\n",
        "for col in df.columns:\n",
        "    if df[col].dtype != 'object': # Only fill numeric columns\n",
        "        df[col].fillna(df[col].mean(), inplace=True)\n",
        "\n",
        "# Encode categorical features and the target variable using LabelEncoder\n",
        "le = LabelEncoder()\n",
        "\n",
        "# Encode the 'Sex' column\n",
        "if 'Sex' in df.columns:\n",
        "    df['Sex'] = le.fit_transform(df['Sex'])\n",
        "\n",
        "# Encode the 'Category' target column\n",
        "if 'Category' in df.columns:\n",
        "    df['Category'] = le.fit_transform(df['Category'])\n",
        "\n",
        "print(\"--- Preprocessed Data ---\")\n",
        "print(df.head())\n",
        "print(\"\\n--- Data Info ---\")\n",
        "df.info()"
      ],
      "metadata": {
        "colab": {
          "base_uri": "https://localhost:8080/"
        },
        "id": "eJG26kRmW5lV",
        "outputId": "739c3b39-c4d4-4151-b7eb-ef0d731f785b"
      },
      "execution_count": 3,
      "outputs": [
        {
          "output_type": "stream",
          "name": "stdout",
          "text": [
            "--- Preprocessed Data ---\n",
            "   Category  Age  Sex   ALB   ALP   ALT   AST   BIL    CHE  CHOL   CREA   GGT  \\\n",
            "0         0   32    1  38.5  52.5   7.7  22.1   7.5   6.93  3.23  106.0  12.1   \n",
            "1         0   32    1  38.5  70.3  18.0  24.7   3.9  11.17  4.80   74.0  15.6   \n",
            "2         0   32    1  46.9  74.7  36.2  52.6   6.1   8.84  5.20   86.0  33.2   \n",
            "3         0   32    1  43.2  52.0  30.6  22.6  18.9   7.33  4.74   80.0  33.8   \n",
            "4         0   32    1  39.2  74.1  32.6  24.8   9.6   9.15  4.32   76.0  29.9   \n",
            "\n",
            "   PROT  \n",
            "0  69.0  \n",
            "1  76.5  \n",
            "2  79.3  \n",
            "3  75.7  \n",
            "4  68.7  \n",
            "\n",
            "--- Data Info ---\n",
            "<class 'pandas.core.frame.DataFrame'>\n",
            "RangeIndex: 615 entries, 0 to 614\n",
            "Data columns (total 13 columns):\n",
            " #   Column    Non-Null Count  Dtype  \n",
            "---  ------    --------------  -----  \n",
            " 0   Category  615 non-null    int64  \n",
            " 1   Age       615 non-null    int64  \n",
            " 2   Sex       615 non-null    int64  \n",
            " 3   ALB       615 non-null    float64\n",
            " 4   ALP       615 non-null    float64\n",
            " 5   ALT       615 non-null    float64\n",
            " 6   AST       615 non-null    float64\n",
            " 7   BIL       615 non-null    float64\n",
            " 8   CHE       615 non-null    float64\n",
            " 9   CHOL      615 non-null    float64\n",
            " 10  CREA      615 non-null    float64\n",
            " 11  GGT       615 non-null    float64\n",
            " 12  PROT      615 non-null    float64\n",
            "dtypes: float64(10), int64(3)\n",
            "memory usage: 62.6 KB\n"
          ]
        },
        {
          "output_type": "stream",
          "name": "stderr",
          "text": [
            "/tmp/ipython-input-3201010576.py:12: FutureWarning: A value is trying to be set on a copy of a DataFrame or Series through chained assignment using an inplace method.\n",
            "The behavior will change in pandas 3.0. This inplace method will never work because the intermediate object on which we are setting values always behaves as a copy.\n",
            "\n",
            "For example, when doing 'df[col].method(value, inplace=True)', try using 'df.method({col: value}, inplace=True)' or df[col] = df[col].method(value) instead, to perform the operation inplace on the original object.\n",
            "\n",
            "\n",
            "  df[col].fillna(df[col].mean(), inplace=True)\n"
          ]
        }
      ]
    },
    {
      "cell_type": "code",
      "source": [
        "\n",
        "# Separate features (X) and target (y)\n",
        "X = df.drop('Category', axis=1)\n",
        "y = df['Category']\n",
        "\n",
        "# Split data into training and testing sets\n",
        "X_train, X_test, y_train, y_test = train_test_split(X, y, test_size=0.2, random_state=42, stratify=y)\n",
        "\n",
        "# Scale the feature data\n",
        "scaler = StandardScaler()\n",
        "X_train_scaled = scaler.fit_transform(X_train)\n",
        "X_test_scaled = scaler.transform(X_test)\n",
        "\n",
        "print(f\"\\nTraining data shape: {X_train_scaled.shape}\")\n",
        "print(f\"Testing data shape: {X_test_scaled.shape}\")"
      ],
      "metadata": {
        "colab": {
          "base_uri": "https://localhost:8080/"
        },
        "id": "afSlWbh6XNBT",
        "outputId": "fd4073af-bba5-4b1a-e6ee-d86b406af2b1"
      },
      "execution_count": 4,
      "outputs": [
        {
          "output_type": "stream",
          "name": "stdout",
          "text": [
            "\n",
            "Training data shape: (492, 12)\n",
            "Testing data shape: (123, 12)\n"
          ]
        }
      ]
    },
    {
      "cell_type": "code",
      "source": [
        "# Define the model architecture from your notebook\n",
        "model = tf.keras.Sequential([\n",
        "    tf.keras.layers.Dense(10, activation='relu', input_shape=(X_train_scaled.shape[1],)),\n",
        "    tf.keras.layers.Dense(1, activation='sigmoid')\n",
        "])\n",
        "\n",
        "# Compile the model\n",
        "model.compile(\n",
        "    optimizer='adam',\n",
        "    loss='categorical_crossentropy',\n",
        "    metrics=['accuracy']\n",
        ")\n",
        "\n",
        "# Train the model\n",
        "print(\"\\n--- Starting Model Training ---\")\n",
        "history = model.fit(\n",
        "    X_train_scaled,\n",
        "    y_train,\n",
        "    epochs=50,\n",
        "    batch_size=32,\n",
        "    validation_split=0.2, # Use part of training data for validation\n",
        "    verbose=1\n",
        ")"
      ],
      "metadata": {
        "colab": {
          "base_uri": "https://localhost:8080/"
        },
        "id": "9ogh-fXXXTfq",
        "outputId": "5ccb0bc0-adc3-4b00-c4ea-03becd86759f"
      },
      "execution_count": 10,
      "outputs": [
        {
          "output_type": "stream",
          "name": "stdout",
          "text": [
            "\n",
            "--- Starting Model Training ---\n",
            "Epoch 1/50\n",
            "\u001b[1m13/13\u001b[0m \u001b[32m━━━━━━━━━━━━━━━━━━━━\u001b[0m\u001b[37m\u001b[0m \u001b[1m1s\u001b[0m 27ms/step - accuracy: 0.2717 - loss: 0.0000e+00 - val_accuracy: 0.3333 - val_loss: 0.0000e+00\n",
            "Epoch 2/50\n",
            "\u001b[1m13/13\u001b[0m \u001b[32m━━━━━━━━━━━━━━━━━━━━\u001b[0m\u001b[37m\u001b[0m \u001b[1m0s\u001b[0m 11ms/step - accuracy: 0.3632 - loss: 0.0000e+00 - val_accuracy: 0.3535 - val_loss: 0.0000e+00\n",
            "Epoch 3/50\n",
            "\u001b[1m13/13\u001b[0m \u001b[32m━━━━━━━━━━━━━━━━━━━━\u001b[0m\u001b[37m\u001b[0m \u001b[1m0s\u001b[0m 9ms/step - accuracy: 0.4055 - loss: 0.0000e+00 - val_accuracy: 0.3838 - val_loss: 0.0000e+00\n",
            "Epoch 4/50\n",
            "\u001b[1m13/13\u001b[0m \u001b[32m━━━━━━━━━━━━━━━━━━━━\u001b[0m\u001b[37m\u001b[0m \u001b[1m0s\u001b[0m 9ms/step - accuracy: 0.4309 - loss: 0.0000e+00 - val_accuracy: 0.4141 - val_loss: 0.0000e+00\n",
            "Epoch 5/50\n",
            "\u001b[1m13/13\u001b[0m \u001b[32m━━━━━━━━━━━━━━━━━━━━\u001b[0m\u001b[37m\u001b[0m \u001b[1m0s\u001b[0m 8ms/step - accuracy: 0.4926 - loss: 0.0000e+00 - val_accuracy: 0.4949 - val_loss: 0.0000e+00\n",
            "Epoch 6/50\n",
            "\u001b[1m13/13\u001b[0m \u001b[32m━━━━━━━━━━━━━━━━━━━━\u001b[0m\u001b[37m\u001b[0m \u001b[1m0s\u001b[0m 10ms/step - accuracy: 0.4877 - loss: 0.0000e+00 - val_accuracy: 0.5354 - val_loss: 0.0000e+00\n",
            "Epoch 7/50\n",
            "\u001b[1m13/13\u001b[0m \u001b[32m━━━━━━━━━━━━━━━━━━━━\u001b[0m\u001b[37m\u001b[0m \u001b[1m0s\u001b[0m 9ms/step - accuracy: 0.5588 - loss: 0.0000e+00 - val_accuracy: 0.5758 - val_loss: 0.0000e+00\n",
            "Epoch 8/50\n",
            "\u001b[1m13/13\u001b[0m \u001b[32m━━━━━━━━━━━━━━━━━━━━\u001b[0m\u001b[37m\u001b[0m \u001b[1m0s\u001b[0m 10ms/step - accuracy: 0.5631 - loss: 0.0000e+00 - val_accuracy: 0.6061 - val_loss: 0.0000e+00\n",
            "Epoch 9/50\n",
            "\u001b[1m13/13\u001b[0m \u001b[32m━━━━━━━━━━━━━━━━━━━━\u001b[0m\u001b[37m\u001b[0m \u001b[1m0s\u001b[0m 8ms/step - accuracy: 0.5631 - loss: 0.0000e+00 - val_accuracy: 0.6364 - val_loss: 0.0000e+00\n",
            "Epoch 10/50\n",
            "\u001b[1m13/13\u001b[0m \u001b[32m━━━━━━━━━━━━━━━━━━━━\u001b[0m\u001b[37m\u001b[0m \u001b[1m0s\u001b[0m 8ms/step - accuracy: 0.6237 - loss: 0.0000e+00 - val_accuracy: 0.6566 - val_loss: 0.0000e+00\n",
            "Epoch 11/50\n",
            "\u001b[1m13/13\u001b[0m \u001b[32m━━━━━━━━━━━━━━━━━━━━\u001b[0m\u001b[37m\u001b[0m \u001b[1m0s\u001b[0m 9ms/step - accuracy: 0.6299 - loss: 0.0000e+00 - val_accuracy: 0.6768 - val_loss: 0.0000e+00\n",
            "Epoch 12/50\n",
            "\u001b[1m13/13\u001b[0m \u001b[32m━━━━━━━━━━━━━━━━━━━━\u001b[0m\u001b[37m\u001b[0m \u001b[1m0s\u001b[0m 8ms/step - accuracy: 0.6554 - loss: 0.0000e+00 - val_accuracy: 0.7071 - val_loss: 0.0000e+00\n",
            "Epoch 13/50\n",
            "\u001b[1m13/13\u001b[0m \u001b[32m━━━━━━━━━━━━━━━━━━━━\u001b[0m\u001b[37m\u001b[0m \u001b[1m0s\u001b[0m 9ms/step - accuracy: 0.7061 - loss: 0.0000e+00 - val_accuracy: 0.7374 - val_loss: 0.0000e+00\n",
            "Epoch 14/50\n",
            "\u001b[1m13/13\u001b[0m \u001b[32m━━━━━━━━━━━━━━━━━━━━\u001b[0m\u001b[37m\u001b[0m \u001b[1m0s\u001b[0m 9ms/step - accuracy: 0.7178 - loss: 0.0000e+00 - val_accuracy: 0.7374 - val_loss: 0.0000e+00\n",
            "Epoch 15/50\n",
            "\u001b[1m13/13\u001b[0m \u001b[32m━━━━━━━━━━━━━━━━━━━━\u001b[0m\u001b[37m\u001b[0m \u001b[1m0s\u001b[0m 10ms/step - accuracy: 0.7156 - loss: 0.0000e+00 - val_accuracy: 0.7374 - val_loss: 0.0000e+00\n",
            "Epoch 16/50\n",
            "\u001b[1m13/13\u001b[0m \u001b[32m━━━━━━━━━━━━━━━━━━━━\u001b[0m\u001b[37m\u001b[0m \u001b[1m0s\u001b[0m 8ms/step - accuracy: 0.7354 - loss: 0.0000e+00 - val_accuracy: 0.7374 - val_loss: 0.0000e+00\n",
            "Epoch 17/50\n",
            "\u001b[1m13/13\u001b[0m \u001b[32m━━━━━━━━━━━━━━━━━━━━\u001b[0m\u001b[37m\u001b[0m \u001b[1m0s\u001b[0m 9ms/step - accuracy: 0.7035 - loss: 0.0000e+00 - val_accuracy: 0.7374 - val_loss: 0.0000e+00\n",
            "Epoch 18/50\n",
            "\u001b[1m13/13\u001b[0m \u001b[32m━━━━━━━━━━━━━━━━━━━━\u001b[0m\u001b[37m\u001b[0m \u001b[1m0s\u001b[0m 8ms/step - accuracy: 0.7112 - loss: 0.0000e+00 - val_accuracy: 0.7374 - val_loss: 0.0000e+00\n",
            "Epoch 19/50\n",
            "\u001b[1m13/13\u001b[0m \u001b[32m━━━━━━━━━━━━━━━━━━━━\u001b[0m\u001b[37m\u001b[0m \u001b[1m0s\u001b[0m 9ms/step - accuracy: 0.7318 - loss: 0.0000e+00 - val_accuracy: 0.7475 - val_loss: 0.0000e+00\n",
            "Epoch 20/50\n",
            "\u001b[1m13/13\u001b[0m \u001b[32m━━━━━━━━━━━━━━━━━━━━\u001b[0m\u001b[37m\u001b[0m \u001b[1m0s\u001b[0m 9ms/step - accuracy: 0.7371 - loss: 0.0000e+00 - val_accuracy: 0.7576 - val_loss: 0.0000e+00\n",
            "Epoch 21/50\n",
            "\u001b[1m13/13\u001b[0m \u001b[32m━━━━━━━━━━━━━━━━━━━━\u001b[0m\u001b[37m\u001b[0m \u001b[1m0s\u001b[0m 11ms/step - accuracy: 0.7804 - loss: 0.0000e+00 - val_accuracy: 0.7576 - val_loss: 0.0000e+00\n",
            "Epoch 22/50\n",
            "\u001b[1m13/13\u001b[0m \u001b[32m━━━━━━━━━━━━━━━━━━━━\u001b[0m\u001b[37m\u001b[0m \u001b[1m0s\u001b[0m 9ms/step - accuracy: 0.7614 - loss: 0.0000e+00 - val_accuracy: 0.7677 - val_loss: 0.0000e+00\n",
            "Epoch 23/50\n",
            "\u001b[1m13/13\u001b[0m \u001b[32m━━━━━━━━━━━━━━━━━━━━\u001b[0m\u001b[37m\u001b[0m \u001b[1m0s\u001b[0m 9ms/step - accuracy: 0.7800 - loss: 0.0000e+00 - val_accuracy: 0.7677 - val_loss: 0.0000e+00\n",
            "Epoch 24/50\n",
            "\u001b[1m13/13\u001b[0m \u001b[32m━━━━━━━━━━━━━━━━━━━━\u001b[0m\u001b[37m\u001b[0m \u001b[1m0s\u001b[0m 9ms/step - accuracy: 0.7443 - loss: 0.0000e+00 - val_accuracy: 0.7677 - val_loss: 0.0000e+00\n",
            "Epoch 25/50\n",
            "\u001b[1m13/13\u001b[0m \u001b[32m━━━━━━━━━━━━━━━━━━━━\u001b[0m\u001b[37m\u001b[0m \u001b[1m0s\u001b[0m 9ms/step - accuracy: 0.7713 - loss: 0.0000e+00 - val_accuracy: 0.7677 - val_loss: 0.0000e+00\n",
            "Epoch 26/50\n",
            "\u001b[1m13/13\u001b[0m \u001b[32m━━━━━━━━━━━━━━━━━━━━\u001b[0m\u001b[37m\u001b[0m \u001b[1m0s\u001b[0m 8ms/step - accuracy: 0.7705 - loss: 0.0000e+00 - val_accuracy: 0.7677 - val_loss: 0.0000e+00\n",
            "Epoch 27/50\n",
            "\u001b[1m13/13\u001b[0m \u001b[32m━━━━━━━━━━━━━━━━━━━━\u001b[0m\u001b[37m\u001b[0m \u001b[1m0s\u001b[0m 8ms/step - accuracy: 0.7783 - loss: 0.0000e+00 - val_accuracy: 0.7677 - val_loss: 0.0000e+00\n",
            "Epoch 28/50\n",
            "\u001b[1m13/13\u001b[0m \u001b[32m━━━━━━━━━━━━━━━━━━━━\u001b[0m\u001b[37m\u001b[0m \u001b[1m0s\u001b[0m 8ms/step - accuracy: 0.7429 - loss: 0.0000e+00 - val_accuracy: 0.7677 - val_loss: 0.0000e+00\n",
            "Epoch 29/50\n",
            "\u001b[1m13/13\u001b[0m \u001b[32m━━━━━━━━━━━━━━━━━━━━\u001b[0m\u001b[37m\u001b[0m \u001b[1m0s\u001b[0m 8ms/step - accuracy: 0.7705 - loss: 0.0000e+00 - val_accuracy: 0.7576 - val_loss: 0.0000e+00\n",
            "Epoch 30/50\n",
            "\u001b[1m13/13\u001b[0m \u001b[32m━━━━━━━━━━━━━━━━━━━━\u001b[0m\u001b[37m\u001b[0m \u001b[1m0s\u001b[0m 9ms/step - accuracy: 0.7922 - loss: 0.0000e+00 - val_accuracy: 0.7576 - val_loss: 0.0000e+00\n",
            "Epoch 31/50\n",
            "\u001b[1m13/13\u001b[0m \u001b[32m━━━━━━━━━━━━━━━━━━━━\u001b[0m\u001b[37m\u001b[0m \u001b[1m0s\u001b[0m 9ms/step - accuracy: 0.7962 - loss: 0.0000e+00 - val_accuracy: 0.7576 - val_loss: 0.0000e+00\n",
            "Epoch 32/50\n",
            "\u001b[1m13/13\u001b[0m \u001b[32m━━━━━━━━━━━━━━━━━━━━\u001b[0m\u001b[37m\u001b[0m \u001b[1m0s\u001b[0m 9ms/step - accuracy: 0.7889 - loss: 0.0000e+00 - val_accuracy: 0.7576 - val_loss: 0.0000e+00\n",
            "Epoch 33/50\n",
            "\u001b[1m13/13\u001b[0m \u001b[32m━━━━━━━━━━━━━━━━━━━━\u001b[0m\u001b[37m\u001b[0m \u001b[1m0s\u001b[0m 9ms/step - accuracy: 0.7756 - loss: 0.0000e+00 - val_accuracy: 0.7576 - val_loss: 0.0000e+00\n",
            "Epoch 34/50\n",
            "\u001b[1m13/13\u001b[0m \u001b[32m━━━━━━━━━━━━━━━━━━━━\u001b[0m\u001b[37m\u001b[0m \u001b[1m0s\u001b[0m 9ms/step - accuracy: 0.7791 - loss: 0.0000e+00 - val_accuracy: 0.7576 - val_loss: 0.0000e+00\n",
            "Epoch 35/50\n",
            "\u001b[1m13/13\u001b[0m \u001b[32m━━━━━━━━━━━━━━━━━━━━\u001b[0m\u001b[37m\u001b[0m \u001b[1m0s\u001b[0m 12ms/step - accuracy: 0.7852 - loss: 0.0000e+00 - val_accuracy: 0.7576 - val_loss: 0.0000e+00\n",
            "Epoch 36/50\n",
            "\u001b[1m13/13\u001b[0m \u001b[32m━━━━━━━━━━━━━━━━━━━━\u001b[0m\u001b[37m\u001b[0m \u001b[1m0s\u001b[0m 9ms/step - accuracy: 0.7908 - loss: 0.0000e+00 - val_accuracy: 0.7677 - val_loss: 0.0000e+00\n",
            "Epoch 37/50\n",
            "\u001b[1m13/13\u001b[0m \u001b[32m━━━━━━━━━━━━━━━━━━━━\u001b[0m\u001b[37m\u001b[0m \u001b[1m0s\u001b[0m 8ms/step - accuracy: 0.8000 - loss: 0.0000e+00 - val_accuracy: 0.7677 - val_loss: 0.0000e+00\n",
            "Epoch 38/50\n",
            "\u001b[1m13/13\u001b[0m \u001b[32m━━━━━━━━━━━━━━━━━━━━\u001b[0m\u001b[37m\u001b[0m \u001b[1m0s\u001b[0m 9ms/step - accuracy: 0.7986 - loss: 0.0000e+00 - val_accuracy: 0.7677 - val_loss: 0.0000e+00\n",
            "Epoch 39/50\n",
            "\u001b[1m13/13\u001b[0m \u001b[32m━━━━━━━━━━━━━━━━━━━━\u001b[0m\u001b[37m\u001b[0m \u001b[1m0s\u001b[0m 9ms/step - accuracy: 0.8012 - loss: 0.0000e+00 - val_accuracy: 0.7677 - val_loss: 0.0000e+00\n",
            "Epoch 40/50\n",
            "\u001b[1m13/13\u001b[0m \u001b[32m━━━━━━━━━━━━━━━━━━━━\u001b[0m\u001b[37m\u001b[0m \u001b[1m0s\u001b[0m 9ms/step - accuracy: 0.7959 - loss: 0.0000e+00 - val_accuracy: 0.7677 - val_loss: 0.0000e+00\n",
            "Epoch 41/50\n",
            "\u001b[1m13/13\u001b[0m \u001b[32m━━━━━━━━━━━━━━━━━━━━\u001b[0m\u001b[37m\u001b[0m \u001b[1m0s\u001b[0m 10ms/step - accuracy: 0.8255 - loss: 0.0000e+00 - val_accuracy: 0.7677 - val_loss: 0.0000e+00\n",
            "Epoch 42/50\n",
            "\u001b[1m13/13\u001b[0m \u001b[32m━━━━━━━━━━━━━━━━━━━━\u001b[0m\u001b[37m\u001b[0m \u001b[1m0s\u001b[0m 9ms/step - accuracy: 0.8131 - loss: 0.0000e+00 - val_accuracy: 0.7677 - val_loss: 0.0000e+00\n",
            "Epoch 43/50\n",
            "\u001b[1m13/13\u001b[0m \u001b[32m━━━━━━━━━━━━━━━━━━━━\u001b[0m\u001b[37m\u001b[0m \u001b[1m0s\u001b[0m 9ms/step - accuracy: 0.8167 - loss: 0.0000e+00 - val_accuracy: 0.7778 - val_loss: 0.0000e+00\n",
            "Epoch 44/50\n",
            "\u001b[1m13/13\u001b[0m \u001b[32m━━━━━━━━━━━━━━━━━━━━\u001b[0m\u001b[37m\u001b[0m \u001b[1m0s\u001b[0m 9ms/step - accuracy: 0.7828 - loss: 0.0000e+00 - val_accuracy: 0.7778 - val_loss: 0.0000e+00\n",
            "Epoch 45/50\n",
            "\u001b[1m13/13\u001b[0m \u001b[32m━━━━━━━━━━━━━━━━━━━━\u001b[0m\u001b[37m\u001b[0m \u001b[1m0s\u001b[0m 9ms/step - accuracy: 0.7746 - loss: 0.0000e+00 - val_accuracy: 0.7778 - val_loss: 0.0000e+00\n",
            "Epoch 46/50\n",
            "\u001b[1m13/13\u001b[0m \u001b[32m━━━━━━━━━━━━━━━━━━━━\u001b[0m\u001b[37m\u001b[0m \u001b[1m0s\u001b[0m 9ms/step - accuracy: 0.7733 - loss: 0.0000e+00 - val_accuracy: 0.7778 - val_loss: 0.0000e+00\n",
            "Epoch 47/50\n",
            "\u001b[1m13/13\u001b[0m \u001b[32m━━━━━━━━━━━━━━━━━━━━\u001b[0m\u001b[37m\u001b[0m \u001b[1m0s\u001b[0m 9ms/step - accuracy: 0.8000 - loss: 0.0000e+00 - val_accuracy: 0.7778 - val_loss: 0.0000e+00\n",
            "Epoch 48/50\n",
            "\u001b[1m13/13\u001b[0m \u001b[32m━━━━━━━━━━━━━━━━━━━━\u001b[0m\u001b[37m\u001b[0m \u001b[1m0s\u001b[0m 10ms/step - accuracy: 0.8219 - loss: 0.0000e+00 - val_accuracy: 0.7778 - val_loss: 0.0000e+00\n",
            "Epoch 49/50\n",
            "\u001b[1m13/13\u001b[0m \u001b[32m━━━━━━━━━━━━━━━━━━━━\u001b[0m\u001b[37m\u001b[0m \u001b[1m0s\u001b[0m 8ms/step - accuracy: 0.8131 - loss: 0.0000e+00 - val_accuracy: 0.7778 - val_loss: 0.0000e+00\n",
            "Epoch 50/50\n",
            "\u001b[1m13/13\u001b[0m \u001b[32m━━━━━━━━━━━━━━━━━━━━\u001b[0m\u001b[37m\u001b[0m \u001b[1m0s\u001b[0m 9ms/step - accuracy: 0.8138 - loss: 0.0000e+00 - val_accuracy: 0.7778 - val_loss: 0.0000e+00\n"
          ]
        }
      ]
    }
  ]
}