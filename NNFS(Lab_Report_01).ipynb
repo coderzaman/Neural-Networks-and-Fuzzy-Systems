{
  "nbformat": 4,
  "nbformat_minor": 0,
  "metadata": {
    "colab": {
      "provenance": [],
      "toc_visible": true,
      "authorship_tag": "ABX9TyOqJ+T4cyM3BUiKa/FkJ9l5",
      "include_colab_link": true
    },
    "kernelspec": {
      "name": "python3",
      "display_name": "Python 3"
    },
    "language_info": {
      "name": "python"
    }
  },
  "cells": [
    {
      "cell_type": "markdown",
      "metadata": {
        "id": "view-in-github",
        "colab_type": "text"
      },
      "source": [
        "<a href=\"https://colab.research.google.com/github/coderzaman/Neural-Networks-and-Fuzzy-Systems/blob/main/NNFS(Lab_Report_01).ipynb\" target=\"_parent\"><img src=\"https://colab.research.google.com/assets/colab-badge.svg\" alt=\"Open In Colab\"/></a>"
      ]
    },
    {
      "cell_type": "markdown",
      "source": [
        "# Network Parameters Setup (Weights & Biases)"
      ],
      "metadata": {
        "id": "cfjwk8ZPJFtV"
      }
    },
    {
      "cell_type": "code",
      "execution_count": 19,
      "metadata": {
        "id": "M7hsR7J3H4Y4"
      },
      "outputs": [],
      "source": [
        "import tensorflow as tf\n",
        "\n",
        "# Input vector\n",
        "x = tf.Variable([[0.8], [0.4], [0.3]], dtype=tf.float32)\n",
        "\n",
        "# Layer 1 weights and biases\n",
        "W1 = tf.Variable([\n",
        "    [0.20, -0.10, 0.30],\n",
        "    [0.05, 0.40, -0.20],\n",
        "    [0.10, 0.00, 0.25]\n",
        "], dtype=tf.float32)\n",
        "b1 = tf.Variable([[0.01], [0.02], [-0.03]], dtype=tf.float32)\n",
        "\n",
        "# Layer 2 weights and biases\n",
        "W2 = tf.Variable([\n",
        "    [0.30, -0.20, 0.10],\n",
        "    [0.60, 0.10, -0.40],\n",
        "    [-0.50, 0.20, 0.20]\n",
        "], dtype=tf.float32)\n",
        "b2 = tf.Variable([[0.00], [0.05], [0.01]], dtype=tf.float32)\n",
        "\n",
        "# Layer 3 weights and biases\n",
        "W3 = tf.Variable([\n",
        "    [0.20, 0.20, -0.10],\n",
        "    [-0.30, 0.50, 0.30],\n",
        "    [0.40, -0.20, 0.10]\n",
        "], dtype=tf.float32)\n",
        "b3 = tf.Variable([[0.02], [-0.01], [0.00]], dtype=tf.float32)\n",
        "\n",
        "# Output Layer weights and biases\n",
        "W4 = tf.Variable([[0.70], [-0.60], [0.50]], dtype=tf.float32)\n",
        "b4 = tf.Variable([0.10], dtype=tf.float32)"
      ]
    },
    {
      "cell_type": "markdown",
      "source": [
        "# Implementation of Activation Functions"
      ],
      "metadata": {
        "id": "jC9OOVC-JOLU"
      }
    },
    {
      "cell_type": "code",
      "source": [
        "# ReLU\n",
        "def relu(x):\n",
        "    \"\"\"Computes the Rectified Linear Unit activation.\"\"\"\n",
        "    return tf.maximum(0., x)\n",
        "\n",
        "# Sigmoid\n",
        "def sigmoid(x):\n",
        "    \"\"\"Computes the Sigmoid activation.\"\"\"\n",
        "    return 1 / (1 + tf.exp(-x))"
      ],
      "metadata": {
        "id": "kv6cTkBVIFcK"
      },
      "execution_count": 20,
      "outputs": []
    },
    {
      "cell_type": "markdown",
      "source": [
        "# Feedforward Calculation"
      ],
      "metadata": {
        "id": "GOeG6iM4Jtz_"
      }
    },
    {
      "cell_type": "markdown",
      "source": [
        "## 1. Output of Hidden Layer 1"
      ],
      "metadata": {
        "id": "n_uP1hzKJ89l"
      }
    },
    {
      "cell_type": "code",
      "source": [
        "# Input to Hidden Layer 1\n",
        "z1 = tf.matmul(W1, x) + b1\n",
        "a1 = relu(z1)"
      ],
      "metadata": {
        "id": "2AW3raLiISxi"
      },
      "execution_count": 21,
      "outputs": []
    },
    {
      "cell_type": "markdown",
      "source": [
        "### Print Result Hidden layer 1"
      ],
      "metadata": {
        "id": "7qvzDdS6KC3V"
      }
    },
    {
      "cell_type": "code",
      "source": [
        "# Hidden Layer 1 to Hidden Layer 2\n",
        "print(f\"z1 =\\n{z1.numpy()}\\n\")\n",
        "print(f\"a1 =\\n{a1.numpy()}\\n\")"
      ],
      "metadata": {
        "colab": {
          "base_uri": "https://localhost:8080/",
          "height": 0
        },
        "id": "K47LbFMoK2nA",
        "outputId": "e0663ac8-5dae-453c-e54b-6d57afbb4ae0"
      },
      "execution_count": 22,
      "outputs": [
        {
          "output_type": "stream",
          "name": "stdout",
          "text": [
            "z1 =\n",
            "[[0.22000001]\n",
            " [0.16000001]\n",
            " [0.125     ]]\n",
            "\n",
            "a1 =\n",
            "[[0.22000001]\n",
            " [0.16000001]\n",
            " [0.125     ]]\n",
            "\n"
          ]
        }
      ]
    },
    {
      "cell_type": "markdown",
      "source": [
        "## 2. Output of Hidden Layer 2"
      ],
      "metadata": {
        "id": "9tONppkcLGf3"
      }
    },
    {
      "cell_type": "code",
      "source": [
        "# Hidden Layer 1 to Hidden Layer 2\n",
        "z2 = tf.matmul(W2, a1) + b2\n",
        "a2 = relu(z2)"
      ],
      "metadata": {
        "id": "9Vbka_4iIV56"
      },
      "execution_count": 23,
      "outputs": []
    },
    {
      "cell_type": "markdown",
      "source": [
        "### Print Result of Hidden layer 2"
      ],
      "metadata": {
        "id": "gzE5sEMzLL-p"
      }
    },
    {
      "cell_type": "code",
      "source": [
        "print(f\"z2 =\\n{z2.numpy()}\\n\")\n",
        "print(f\"a2 =\\n{a2.numpy()}\\n\")"
      ],
      "metadata": {
        "colab": {
          "base_uri": "https://localhost:8080/",
          "height": 0
        },
        "id": "If9lP3QALTHH",
        "outputId": "fe4f38ba-f481-4a40-c06e-f1e9ca7f12d2"
      },
      "execution_count": 24,
      "outputs": [
        {
          "output_type": "stream",
          "name": "stdout",
          "text": [
            "z2 =\n",
            "[[ 0.0465    ]\n",
            " [ 0.14800002]\n",
            " [-0.04300001]]\n",
            "\n",
            "a2 =\n",
            "[[0.0465    ]\n",
            " [0.14800002]\n",
            " [0.        ]]\n",
            "\n"
          ]
        }
      ]
    },
    {
      "cell_type": "markdown",
      "source": [
        "## 3. Output of Hidden Layer 3"
      ],
      "metadata": {
        "id": "Jp92-WfPLvCx"
      }
    },
    {
      "cell_type": "code",
      "source": [
        "# Hidden Layer 2 to Hidden Layer 3\n",
        "z3 = tf.matmul(W3, a2) + b3\n",
        "a3 = relu(z3)"
      ],
      "metadata": {
        "id": "6ver7cHYIZbC"
      },
      "execution_count": 25,
      "outputs": []
    },
    {
      "cell_type": "markdown",
      "source": [
        "### Print Result of Hidden layer 3"
      ],
      "metadata": {
        "id": "KXIYTl2SL5h5"
      }
    },
    {
      "cell_type": "code",
      "source": [
        "print(f\"z3 =\\n{z3.numpy()}\\n\")\n",
        "print(f\"a3 =\\n{a3.numpy()}\\n\")"
      ],
      "metadata": {
        "colab": {
          "base_uri": "https://localhost:8080/",
          "height": 0
        },
        "id": "yR5vtSFEL90j",
        "outputId": "233a88b6-6212-45c7-a69d-3055074bce60"
      },
      "execution_count": 26,
      "outputs": [
        {
          "output_type": "stream",
          "name": "stdout",
          "text": [
            "z3 =\n",
            "[[ 0.0589    ]\n",
            " [ 0.05005001]\n",
            " [-0.011     ]]\n",
            "\n",
            "a3 =\n",
            "[[0.0589    ]\n",
            " [0.05005001]\n",
            " [0.        ]]\n",
            "\n"
          ]
        }
      ]
    },
    {
      "cell_type": "markdown",
      "source": [
        "##4. Output Layer"
      ],
      "metadata": {
        "id": "_xbelMoSMW1p"
      }
    },
    {
      "cell_type": "code",
      "source": [
        "# Hidden Layer 3 to Output Layer\n",
        "\n",
        "# W4 is already 3x1, so we transpose it to 1x3 for matmul\n",
        "z4 = tf.matmul(tf.transpose(W4), a3) + b4\n",
        "y_hat = sigmoid(z4)"
      ],
      "metadata": {
        "id": "H0Vkej3OIbwK"
      },
      "execution_count": 27,
      "outputs": []
    },
    {
      "cell_type": "markdown",
      "source": [
        "### Print result of Output Layer"
      ],
      "metadata": {
        "id": "yysiNBf0MdlZ"
      }
    },
    {
      "cell_type": "code",
      "source": [
        "print(f\"a3 =\\n{a3.numpy()}\\n\")\n",
        "print(f\"z4 =\\n{z4.numpy()}\\n\")\n",
        "print(f\"y_hat (Final Output) =\\n{y_hat.numpy()}\\n\")"
      ],
      "metadata": {
        "colab": {
          "base_uri": "https://localhost:8080/",
          "height": 0
        },
        "id": "_NeInbfiIiYD",
        "outputId": "0a42b336-fd1e-472a-f625-64c207eaa5b6"
      },
      "execution_count": 28,
      "outputs": [
        {
          "output_type": "stream",
          "name": "stdout",
          "text": [
            "a3 =\n",
            "[[0.0589    ]\n",
            " [0.05005001]\n",
            " [0.        ]]\n",
            "\n",
            "z4 =\n",
            "[[0.1112]]\n",
            "\n",
            "y_hat (Final Output) =\n",
            "[[0.5277714]]\n",
            "\n"
          ]
        }
      ]
    }
  ]
}