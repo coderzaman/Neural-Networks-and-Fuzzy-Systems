{
  "nbformat": 4,
  "nbformat_minor": 0,
  "metadata": {
    "colab": {
      "provenance": [],
      "authorship_tag": "ABX9TyP8nj+LUsAvONWkLzY2+zWQ",
      "include_colab_link": true
    },
    "kernelspec": {
      "name": "python3",
      "display_name": "Python 3"
    },
    "language_info": {
      "name": "python"
    }
  },
  "cells": [
    {
      "cell_type": "markdown",
      "metadata": {
        "id": "view-in-github",
        "colab_type": "text"
      },
      "source": [
        "<a href=\"https://colab.research.google.com/github/coderzaman/Neural-Networks-and-Fuzzy-Systems/blob/main/NNFS_Lab_05(CNN_Feature_Detector_and_map).ipynb\" target=\"_parent\"><img src=\"https://colab.research.google.com/assets/colab-badge.svg\" alt=\"Open In Colab\"/></a>"
      ]
    },
    {
      "cell_type": "code",
      "execution_count": 19,
      "metadata": {
        "colab": {
          "base_uri": "https://localhost:8080/"
        },
        "id": "eZV89PXTNag9",
        "outputId": "b3e2fb43-0d67-4477-e1dc-922fa4c2e398"
      },
      "outputs": [
        {
          "output_type": "stream",
          "name": "stdout",
          "text": [
            "[[1 0 0 1 1 0 0]\n",
            " [1 0 1 0 1 0 0]\n",
            " [0 0 0 0 0 1 0]\n",
            " [0 1 1 0 1 0 0]\n",
            " [1 1 1 0 1 0 1]\n",
            " [0 1 1 0 1 0 1]\n",
            " [1 0 1 1 0 1 1]]\n",
            "[[1 1 0]\n",
            " [0 0 1]\n",
            " [1 0 0]]\n",
            "\n",
            "Calculated Feature Map (5x5):\n",
            "[[2. 0. 2. 2. 1.]\n",
            " [1. 2. 2. 2. 2.]\n",
            " [2. 1. 2. 0. 2.]\n",
            " [2. 3. 3. 1. 3.]\n",
            " [4. 2. 3. 2. 2.]]\n"
          ]
        }
      ],
      "source": [
        "import numpy as np\n",
        "image = np.random.randint(0, 2, size=(7, 7))\n",
        "feature_detector = np.random.randint(0, 2, size=(3, 3))\n",
        "row = image.shape[0]-feature_detector.shape[0] + 1\n",
        "col = image.shape[1]-feature_detector.shape[1] + 1\n",
        "feature_map = np.zeros((row, col))\n",
        "\n",
        "# print(image)\n",
        "# print(feature_detector)\n",
        "\n",
        "k_rows, k_cols = feature_detector.shape\n",
        "\n",
        "for i in range(row):\n",
        "    for j in range(col):\n",
        "\n",
        "        image_window = image[i : i + k_rows, j : j + k_cols]\n",
        "\n",
        "        multiplied_values = image_window * feature_detector\n",
        "\n",
        "        output_value = np.sum(multiplied_values)\n",
        "\n",
        "        feature_map[i, j] = output_value\n",
        "\n",
        "print(\"\\nCalculated Feature Map (5x5):\")\n",
        "print(feature_map)\n"
      ]
    },
    {
      "cell_type": "code",
      "source": [],
      "metadata": {
        "id": "V7FRCYRZRJ33"
      },
      "execution_count": null,
      "outputs": []
    }
  ]
}