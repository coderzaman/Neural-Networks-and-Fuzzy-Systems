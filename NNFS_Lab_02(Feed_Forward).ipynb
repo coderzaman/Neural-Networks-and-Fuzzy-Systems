{
  "nbformat": 4,
  "nbformat_minor": 0,
  "metadata": {
    "colab": {
      "provenance": [],
      "authorship_tag": "ABX9TyPFZexb+hoB9E75bTEPKDA8",
      "include_colab_link": true
    },
    "kernelspec": {
      "name": "python3",
      "display_name": "Python 3"
    },
    "language_info": {
      "name": "python"
    }
  },
  "cells": [
    {
      "cell_type": "markdown",
      "metadata": {
        "id": "view-in-github",
        "colab_type": "text"
      },
      "source": [
        "<a href=\"https://colab.research.google.com/github/coderzaman/Neural-Networks-and-Fuzzy-Systems/blob/main/NNFS_Lab_02(Feed_Forward).ipynb\" target=\"_parent\"><img src=\"https://colab.research.google.com/assets/colab-badge.svg\" alt=\"Open In Colab\"/></a>"
      ]
    },
    {
      "cell_type": "code",
      "execution_count": null,
      "metadata": {
        "id": "T9h2h3VUYCRY"
      },
      "outputs": [],
      "source": [
        "import tensorflow as tf"
      ]
    },
    {
      "cell_type": "code",
      "source": [
        "X = tf.Variable([[0.5,0.2,0.9]], dtype=tf.float32)"
      ],
      "metadata": {
        "id": "tVShf-QOYMkw"
      },
      "execution_count": null,
      "outputs": []
    },
    {
      "cell_type": "code",
      "source": [
        "W1 = tf.Variable([\n",
        "      [0.1,0.2,0.3],\n",
        "      [0.4,0.5,0.6],\n",
        "      [0.4,0.2,0.8],\n",
        "    ])\n",
        "b1  = tf.Variable([[0.01,0.02,0.03]],  dtype=tf.float32)"
      ],
      "metadata": {
        "id": "l637zzSZYZZn"
      },
      "execution_count": null,
      "outputs": []
    },
    {
      "cell_type": "code",
      "source": [
        "w2 = tf.Variable([[0.7],\n",
        "                  [0.8],\n",
        "                  [0.9]], dtype=tf.float32)\n",
        "b2 = tf.Variable([[0.05]], dtype=tf.float32)"
      ],
      "metadata": {
        "id": "eR4OGBc0YoEV"
      },
      "execution_count": null,
      "outputs": []
    },
    {
      "cell_type": "code",
      "source": [
        "def sigmoid(X):\n",
        "  return 1/(1+tf.exp(-X))\n",
        "\n",
        "def relu(X):\n",
        "  return tf.maximum(0,X)"
      ],
      "metadata": {
        "id": "1eyqXOEqZzoi"
      },
      "execution_count": null,
      "outputs": []
    },
    {
      "cell_type": "code",
      "source": [
        "z1 = tf.matmul(X,W1) + b1\n",
        "print(f\"Without activation Function: {z1}\\n\")\n",
        "\n",
        "print(f\"With Sigmoid Function: {sigmoid(z1)}\")\n",
        "print(f\"With relu Function: {relu(z1)}\")\n"
      ],
      "metadata": {
        "colab": {
          "base_uri": "https://localhost:8080/"
        },
        "id": "TsGEVu4-Y0HO",
        "outputId": "81573f2e-8f9f-4026-8d0a-8b4edabecb0d"
      },
      "execution_count": null,
      "outputs": [
        {
          "output_type": "stream",
          "name": "stdout",
          "text": [
            "Without activation Function: [[0.5  0.4  1.02]]\n",
            "\n",
            "With Sigmoid Function: [[0.62245935 0.59868765 0.7349726 ]]\n",
            "With relu Function: [[0.5  0.4  1.02]]\n"
          ]
        }
      ]
    },
    {
      "cell_type": "code",
      "source": [
        "z2 = tf.matmul(z1,w2) + b2\n",
        "print(f\"Witout activation Function: {z2}\\n\")\n",
        "print(f\"With Sigmoid Function: {sigmoid(z2)}\")\n",
        "print(f\"With relu Function: {relu(z2)}\")\n"
      ],
      "metadata": {
        "colab": {
          "base_uri": "https://localhost:8080/"
        },
        "id": "VfgoP7DYZliG",
        "outputId": "83d7309e-bd61-47d3-a01d-a0354b3f2951"
      },
      "execution_count": null,
      "outputs": [
        {
          "output_type": "stream",
          "name": "stdout",
          "text": [
            "Witout activation Function: [[1.638]]\n",
            "\n",
            "With Sigmoid Function: [[0.83726263]]\n",
            "With relu Function: [[1.638]]\n"
          ]
        }
      ]
    }
  ]
}