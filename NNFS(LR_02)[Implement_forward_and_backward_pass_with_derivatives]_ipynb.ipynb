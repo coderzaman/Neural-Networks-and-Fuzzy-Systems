{
  "nbformat": 4,
  "nbformat_minor": 0,
  "metadata": {
    "colab": {
      "provenance": [],
      "collapsed_sections": [
        "FZkKNEx6UNka",
        "yWPCB3XdUzAk"
      ],
      "toc_visible": true,
      "authorship_tag": "ABX9TyMyGwi/UW6Jwaq04jxX0X3G",
      "include_colab_link": true
    },
    "kernelspec": {
      "name": "python3",
      "display_name": "Python 3"
    },
    "language_info": {
      "name": "python"
    }
  },
  "cells": [
    {
      "cell_type": "markdown",
      "metadata": {
        "id": "view-in-github",
        "colab_type": "text"
      },
      "source": [
        "<a href=\"https://colab.research.google.com/github/coderzaman/Neural-Networks-and-Fuzzy-Systems/blob/main/NNFS(LR_02)%5BImplement_forward_and_backward_pass_with_derivatives%5D_ipynb.ipynb\" target=\"_parent\"><img src=\"https://colab.research.google.com/assets/colab-badge.svg\" alt=\"Open In Colab\"/></a>"
      ]
    },
    {
      "cell_type": "markdown",
      "source": [
        "# 1. SETUP"
      ],
      "metadata": {
        "id": "TXUXjrEQTtEJ"
      }
    },
    {
      "cell_type": "code",
      "execution_count": 49,
      "metadata": {
        "id": "7SI3-8ASv51R"
      },
      "outputs": [],
      "source": [
        "import tensorflow as tf\n",
        "\n",
        "# Input vector and true target value\n",
        "x = tf.Variable([[0.8], [0.4], [0.3]], dtype=tf.float32)\n",
        "y_true = tf.constant([[1.0]], dtype=tf.float32)\n",
        "\n",
        "# Learning Rate\n",
        "lr = 0.1\n",
        "\n",
        "# Layer 1 weights and biases\n",
        "W1 = tf.Variable([\n",
        "    [0.20, -0.10, 0.30],\n",
        "    [0.05, 0.40, -0.20],\n",
        "    [0.10, 0.00, 0.25]\n",
        "], dtype=tf.float32)\n",
        "b1 = tf.Variable([[0.01], [0.02], [-0.03]], dtype=tf.float32)\n",
        "\n",
        "# Layer 2 weights and biases\n",
        "W2 = tf.Variable([\n",
        "    [0.30, -0.20, 0.10],\n",
        "    [0.60, 0.10, -0.40],\n",
        "    [-0.50, 0.20, 0.20]\n",
        "], dtype=tf.float32)\n",
        "b2 = tf.Variable([[0.00], [0.05], [0.01]], dtype=tf.float32)\n",
        "\n",
        "# Layer 3 weights and biases\n",
        "W3 = tf.Variable([\n",
        "    [0.20, 0.20, -0.10],\n",
        "    [-0.30, 0.50, 0.30],\n",
        "    [0.40, -0.20, 0.10]\n",
        "], dtype=tf.float32)\n",
        "b3 = tf.Variable([[0.02], [-0.01], [0.00]], dtype=tf.float32)\n",
        "\n",
        "# Output Layer weights and biases\n",
        "W4 = tf.Variable([[0.70], [-0.60], [0.50]], dtype=tf.float32)\n",
        "b4 = tf.Variable([[0.10]], dtype=tf.float32) # Reshape b4 to match delta4"
      ]
    },
    {
      "cell_type": "markdown",
      "source": [
        "# 2. ACTIVATION FUNCTIONS & DERIVATIVES"
      ],
      "metadata": {
        "id": "1AFVvf7zT2WT"
      }
    },
    {
      "cell_type": "code",
      "source": [
        "def relu(x):\n",
        "    return tf.maximum(0.0, x)\n",
        "\n",
        "def relu_derivative(x):\n",
        "    return tf.cast(x > 0, dtype=tf.float32)\n",
        "\n",
        "def sigmoid(x):\n",
        "    return 1 / (1 + tf.exp(-x))\n",
        "\n",
        "def sigmoid_derivative(x):\n",
        "    s = sigmoid(x)\n",
        "    return s * (1 - s)"
      ],
      "metadata": {
        "id": "mdKufvY7RgzQ"
      },
      "execution_count": 50,
      "outputs": []
    },
    {
      "cell_type": "markdown",
      "source": [
        "# 3. FORWARD PASS"
      ],
      "metadata": {
        "id": "U1iglG1qUAkC"
      }
    },
    {
      "cell_type": "code",
      "source": [
        "# Layer 1\n",
        "z1 = tf.matmul(W1, x) + b1\n",
        "a1 = relu(z1)\n",
        "\n",
        "# Layer 2\n",
        "z2 = tf.matmul(W2, a1) + b2\n",
        "a2 = relu(z2)\n",
        "\n",
        "# Layer 3\n",
        "z3 = tf.matmul(W3, a2) + b3\n",
        "a3 = relu(z3)\n",
        "\n",
        "# Layer 4 (Output)\n",
        "z4 = tf.matmul(tf.transpose(W4), a3) + b4\n",
        "y_hat = sigmoid(z4)"
      ],
      "metadata": {
        "id": "RKiTQb9BRk2H"
      },
      "execution_count": 51,
      "outputs": []
    },
    {
      "cell_type": "markdown",
      "source": [
        "# 4. OUTPUT OF FORWARD PASS"
      ],
      "metadata": {
        "id": "FZkKNEx6UNka"
      }
    },
    {
      "cell_type": "code",
      "source": [
        " #--- Print Results ---\n",
        "print(\"--- Feedforward Pass Results ---\")\n",
        "print(f\"z1 =\\n{z1.numpy()}\\n\")\n",
        "print(f\"a1 =\\n{a1.numpy()}\\n\")\n",
        "print(f\"z2 =\\n{z2.numpy()}\\n\")\n",
        "print(f\"a2 =\\n{a2.numpy()}\\n\")\n",
        "print(f\"z3 =\\n{z3.numpy()}\\n\")\n",
        "print(f\"a3 =\\n{a3.numpy()}\\n\")\n",
        "print(f\"z4 =\\n{z4.numpy()}\\n\")\n",
        "print(f\"y_hat (Final Output) =\\n{y_hat.numpy()}\\n\")"
      ],
      "metadata": {
        "colab": {
          "base_uri": "https://localhost:8080/"
        },
        "id": "Zva8mUM-TYlB",
        "outputId": "cec96380-8eee-4048-9b0a-795d1490ce60"
      },
      "execution_count": 52,
      "outputs": [
        {
          "output_type": "stream",
          "name": "stdout",
          "text": [
            "--- Feedforward Pass Results ---\n",
            "z1 =\n",
            "[[0.22000001]\n",
            " [0.16000001]\n",
            " [0.125     ]]\n",
            "\n",
            "a1 =\n",
            "[[0.22000001]\n",
            " [0.16000001]\n",
            " [0.125     ]]\n",
            "\n",
            "z2 =\n",
            "[[ 0.0465    ]\n",
            " [ 0.14800002]\n",
            " [-0.04300001]]\n",
            "\n",
            "a2 =\n",
            "[[0.0465    ]\n",
            " [0.14800002]\n",
            " [0.        ]]\n",
            "\n",
            "z3 =\n",
            "[[ 0.0589    ]\n",
            " [ 0.05005001]\n",
            " [-0.011     ]]\n",
            "\n",
            "a3 =\n",
            "[[0.0589    ]\n",
            " [0.05005001]\n",
            " [0.        ]]\n",
            "\n",
            "z4 =\n",
            "[[0.1112]]\n",
            "\n",
            "y_hat (Final Output) =\n",
            "[[0.5277714]]\n",
            "\n"
          ]
        }
      ]
    },
    {
      "cell_type": "markdown",
      "source": [
        "# 5. COMPUTE LOSS"
      ],
      "metadata": {
        "id": "yWPCB3XdUzAk"
      }
    },
    {
      "cell_type": "code",
      "source": [
        "loss = tf.square(y_true - y_hat)\n",
        "print(f\"--- Initial State ---\")\n",
        "print(f\"Prediction (y_hat): {y_hat.numpy()[0][0]:.6f}\")\n",
        "print(f\"Loss: {loss.numpy()[0][0]:.6f}\\n\")"
      ],
      "metadata": {
        "colab": {
          "base_uri": "https://localhost:8080/"
        },
        "id": "NpKB5C1CSixI",
        "outputId": "73718aa7-37c2-4682-967c-cd31e3dd43bb"
      },
      "execution_count": 53,
      "outputs": [
        {
          "output_type": "stream",
          "name": "stdout",
          "text": [
            "--- Initial State ---\n",
            "Prediction (y_hat): 0.527771\n",
            "Loss: 0.223000\n",
            "\n"
          ]
        }
      ]
    },
    {
      "cell_type": "markdown",
      "source": [
        "# 6. BACKPROPAGATION (ONE ITERATION)"
      ],
      "metadata": {
        "id": "IR8XTQxCVDRs"
      }
    },
    {
      "cell_type": "code",
      "source": [
        "# Layer 4 (Output Layer)\n",
        "delta4 = 2*(y_hat - y_true) * sigmoid_derivative(z4)\n",
        "dW4 = tf.matmul(a3, delta4)\n",
        "db4 = delta4\n",
        "\n",
        "# Layer 3\n",
        "error3 = tf.matmul(W4, delta4)\n",
        "delta3 = error3 * relu_derivative(z3)\n",
        "dW3 = tf.matmul(delta3, a2, transpose_b=True)\n",
        "db3 = delta3\n",
        "\n",
        "# Layer 2\n",
        "error2 = tf.matmul(W3, delta3, transpose_a=True)\n",
        "delta2 = error2 * relu_derivative(z2)\n",
        "dW2 = tf.matmul(delta2, a1, transpose_b=True)\n",
        "db2 = delta2\n",
        "\n",
        "# Layer 1\n",
        "error1 = tf.matmul(W2, delta2, transpose_a=True)\n",
        "delta1 = error1 * relu_derivative(z1)\n",
        "dW1 = tf.matmul(delta1, x, transpose_b=True)\n",
        "db1 = delta1"
      ],
      "metadata": {
        "id": "DqXjaZQiSSYI"
      },
      "execution_count": 54,
      "outputs": []
    },
    {
      "cell_type": "markdown",
      "source": [
        "### UPDATE WIGHT AND BAYES"
      ],
      "metadata": {
        "id": "0E-O3JuJVQrc"
      }
    },
    {
      "cell_type": "code",
      "source": [
        "W1.assign_sub(lr * dW1)\n",
        "b1.assign_sub(lr * db1)\n",
        "W2.assign_sub(lr * dW2)\n",
        "b2.assign_sub(lr * db2)\n",
        "W3.assign_sub(lr * dW3)\n",
        "b3.assign_sub(lr * db3)\n",
        "W4.assign_sub(lr * dW4)\n",
        "b4.assign_sub(lr * db4)"
      ],
      "metadata": {
        "colab": {
          "base_uri": "https://localhost:8080/"
        },
        "id": "BI3k5rMCSuXh",
        "outputId": "220cd1b8-c84a-4f62-ca15-39630e7ba8ad"
      },
      "execution_count": 55,
      "outputs": [
        {
          "output_type": "execute_result",
          "data": {
            "text/plain": [
              "<tf.Variable 'UnreadVariable' shape=(1, 1) dtype=float32, numpy=array([[0.12353859]], dtype=float32)>"
            ]
          },
          "metadata": {},
          "execution_count": 55
        }
      ]
    },
    {
      "cell_type": "markdown",
      "source": [
        "# 7. PRINT UPDATED WEIGHTS AND BIASES"
      ],
      "metadata": {
        "id": "gSQtr9z4WH1-"
      }
    },
    {
      "cell_type": "code",
      "source": [
        "print(\"--- Updated Weights and Biases after one iteration ---\")\n",
        "print(\"Updated W1:\\n\", W1.numpy())\n",
        "print(\"\\nUpdated b1:\\n\", b1.numpy())\n",
        "print(\"\\nUpdated W2:\\n\", W2.numpy())\n",
        "print(\"\\nUpdated b2:\\n\", b2.numpy())\n",
        "print(\"\\nUpdated W3:\\n\", W3.numpy())\n",
        "print(\"\\nUpdated b3:\\n\", b3.numpy())\n",
        "print(\"\\nUpdated W4:\\n\", W4.numpy())\n",
        "print(\"\\nUpdated b4:\\n\", b4.numpy())"
      ],
      "metadata": {
        "colab": {
          "base_uri": "https://localhost:8080/"
        },
        "id": "radO4Ll4Sw_R",
        "outputId": "252791e0-688d-47de-9d2e-231356a40a47"
      },
      "execution_count": 56,
      "outputs": [
        {
          "output_type": "stream",
          "name": "stdout",
          "text": [
            "--- Updated Weights and Biases after one iteration ---\n",
            "Updated W1:\n",
            " [[ 0.2        -0.1         0.3       ]\n",
            " [ 0.04849353  0.39924678 -0.20056494]\n",
            " [ 0.10180777  0.00090388  0.2506779 ]]\n",
            "\n",
            "Updated b1:\n",
            " [[ 0.01      ]\n",
            " [ 0.01811691]\n",
            " [-0.02774029]]\n",
            "\n",
            "Updated W2:\n",
            " [[ 0.30165714 -0.19879483  0.10094155]\n",
            " [ 0.59917146  0.09939741 -0.40047076]\n",
            " [-0.5         0.2         0.2       ]]\n",
            "\n",
            "Updated b2:\n",
            " [[0.00753235]\n",
            " [0.04623383]\n",
            " [0.01      ]]\n",
            "\n",
            "Updated W3:\n",
            " [[ 0.20076619  0.20243861 -0.1       ]\n",
            " [-0.30065674  0.49790978  0.3       ]\n",
            " [ 0.4        -0.2         0.1       ]]\n",
            "\n",
            "Updated b3:\n",
            " [[ 0.03647701]\n",
            " [-0.02412315]\n",
            " [ 0.        ]]\n",
            "\n",
            "Updated W4:\n",
            " [[ 0.7013864 ]\n",
            " [-0.59882194]\n",
            " [ 0.5       ]]\n",
            "\n",
            "Updated b4:\n",
            " [[0.12353859]]\n"
          ]
        }
      ]
    },
    {
      "cell_type": "markdown",
      "source": [
        "#  8. MULTIPLE ITERATIONS (TRAINING LOOP)"
      ],
      "metadata": {
        "id": "1pWKzY7kZlcj"
      }
    },
    {
      "cell_type": "code",
      "source": [
        "epochs = 3000\n",
        "\n",
        "for epoch in range(epochs):\n",
        "    # --- Forward Pass ---\n",
        "    z1 = tf.matmul(W1, x) + b1\n",
        "    a1 = relu(z1)\n",
        "    z2 = tf.matmul(W2, a1) + b2\n",
        "    a2 = relu(z2)\n",
        "    z3 = tf.matmul(W3, a2) + b3\n",
        "    a3 = relu(z3)\n",
        "    z4 = tf.matmul(tf.transpose(W4), a3) + b4\n",
        "    y_hat = sigmoid(z4)\n",
        "\n",
        "    # --- Compute Loss ---\n",
        "    loss = tf.square(y_true - y_hat)\n",
        "\n",
        "    # --- Stop if loss is zero ---\n",
        "    if loss.numpy()[0][0] == 0:\n",
        "        print(f\"Loss reached zero at epoch {epoch+1}. Stopping training.\")\n",
        "        break\n",
        "\n",
        "    # --- Backpropagation ---\n",
        "    # Layer 4 (Output Layer)\n",
        "    delta4 = 2 * (y_hat - y_true) * sigmoid_derivative(z4)\n",
        "    dW4 = tf.matmul(a3, delta4)\n",
        "    db4 = delta4\n",
        "\n",
        "    # Layer 3\n",
        "    error3 = tf.matmul(W4, delta4)\n",
        "    delta3 = error3 * relu_derivative(z3)\n",
        "    dW3 = tf.matmul(delta3, a2, transpose_b=True)\n",
        "    db3 = delta3\n",
        "\n",
        "    # Layer 2\n",
        "    error2 = tf.matmul(W3, delta3, transpose_a=True)\n",
        "    delta2 = error2 * relu_derivative(z2)\n",
        "    dW2 = tf.matmul(delta2, a1, transpose_b=True)\n",
        "    db2 = delta2\n",
        "\n",
        "    # Layer 1\n",
        "    error1 = tf.matmul(W2, delta2, transpose_a=True)\n",
        "    delta1 = error1 * relu_derivative(z1)\n",
        "    dW1 = tf.matmul(delta1, x, transpose_b=True)\n",
        "    db1 = delta1\n",
        "\n",
        "    # --- Parameter Update ---\n",
        "    W1.assign_sub(lr * dW1)\n",
        "    b1.assign_sub(lr * db1)\n",
        "    W2.assign_sub(lr * dW2)\n",
        "    b2.assign_sub(lr * db2)\n",
        "    W3.assign_sub(lr * dW3)\n",
        "    b3.assign_sub(lr * db3)\n",
        "    W4.assign_sub(lr * dW4)\n",
        "    b4.assign_sub(lr * db4)\n",
        "\n",
        "    # --- Print progress after each 500 Iteration ---\n",
        "    if (epoch + 1) % 500 == 0:\n",
        "      print(f\"Epoch {epoch+1}, Loss: {loss.numpy()[0][0]:.6f}\")"
      ],
      "metadata": {
        "colab": {
          "base_uri": "https://localhost:8080/"
        },
        "id": "ruw8AnHjXhqo",
        "outputId": "c8369b60-aa5e-4b87-e8fb-6b1d4efe3c95"
      },
      "execution_count": 57,
      "outputs": [
        {
          "output_type": "stream",
          "name": "stdout",
          "text": [
            "Epoch 500, Loss: 0.000651\n",
            "Epoch 1000, Loss: 0.000234\n",
            "Epoch 1500, Loss: 0.000132\n",
            "Epoch 2000, Loss: 0.000089\n",
            "Epoch 2500, Loss: 0.000066\n",
            "Epoch 3000, Loss: 0.000052\n"
          ]
        }
      ]
    },
    {
      "cell_type": "markdown",
      "source": [
        "# 9. FINAL RESULTS AFTER TRAINING"
      ],
      "metadata": {
        "id": "Mv3Iwt18anjS"
      }
    },
    {
      "cell_type": "code",
      "source": [
        "print(\"\\n--- Final Results After Training ---\")\n",
        "print(f\"Final Prediction (y_hat): {y_hat.numpy()[0][0]:.6f}\")\n",
        "print(f\"Final Loss: {loss.numpy()[0][0]:.6f}\")"
      ],
      "metadata": {
        "colab": {
          "base_uri": "https://localhost:8080/"
        },
        "id": "uQHoQYgVamBr",
        "outputId": "da877e55-c52b-496b-b572-835b6c53ca27"
      },
      "execution_count": 58,
      "outputs": [
        {
          "output_type": "stream",
          "name": "stdout",
          "text": [
            "\n",
            "--- Final Results After Training ---\n",
            "Final Prediction (y_hat): 0.992803\n",
            "Final Loss: 0.000052\n"
          ]
        }
      ]
    }
  ]
}